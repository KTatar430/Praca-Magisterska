{
 "cells": [
  {
   "cell_type": "markdown",
   "id": "14fa7b69",
   "metadata": {},
   "source": [
    "# MSL z pyCLAD"
   ]
  },
  {
   "cell_type": "markdown",
   "id": "7f66a044",
   "metadata": {},
   "source": [
    "## Dataset"
   ]
  },
  {
   "cell_type": "markdown",
   "id": "a46ff5ce",
   "metadata": {},
   "source": [
    "### Załadowanie danych treningowych i testowych"
   ]
  },
  {
   "cell_type": "code",
   "execution_count": 9,
   "id": "36edea5d",
   "metadata": {},
   "outputs": [],
   "source": [
    "import pandas as pd\n",
    "import numpy as np\n",
    "\n",
    "metadata = pd.read_csv(\"labeled_anomalies.csv\")\n",
    "msl_channels = metadata[metadata['spacecraft'] == 'MSL']['chan_id'].tolist()\n",
    "\n",
    "msl_train_data = {}\n",
    "for channel in msl_channels:\n",
    "    try:\n",
    "        data = np.load(f\"data/train/{channel}.npy\")\n",
    "        msl_train_data[channel] = data\n",
    "    except FileNotFoundError:\n",
    "        print(f\"{channel}: brak danych\")\n",
    "    \n",
    "msl_test_data = {}\n",
    "for channel in msl_channels:\n",
    "    try:\n",
    "        data = np.load(f\"data/test/{channel}.npy\")\n",
    "        msl_test_data[channel] = data\n",
    "    except FileNotFoundError:\n",
    "        print(f\"{channel}: brak danych\")\n",
    "\n",
    "del data\n",
    "del channel"
   ]
  },
  {
   "cell_type": "markdown",
   "id": "9606c72a",
   "metadata": {},
   "source": [
    "### Okna czasowe"
   ]
  },
  {
   "cell_type": "code",
   "execution_count": 10,
   "id": "c2a5c284",
   "metadata": {},
   "outputs": [],
   "source": [
    "import numpy as np\n",
    "\n",
    "def create_window(data, window_size):\n",
    "    return np.array([data[i:i+window_size].flatten() for i in range(len(data) - window_size + 1)])"
   ]
  },
  {
   "cell_type": "markdown",
   "id": "61bccd42",
   "metadata": {},
   "source": [
    "### Stworzenie conceptu treningowego i testowego z okien czasowych"
   ]
  },
  {
   "cell_type": "code",
   "execution_count": 11,
   "id": "d2287ee7",
   "metadata": {},
   "outputs": [
    {
     "name": "stdout",
     "output_type": "stream",
     "text": [
      "Liczba konceptów treningowych: 27\n",
      "Liczba konceptów testowych: 27\n"
     ]
    }
   ],
   "source": [
    "import ast\n",
    "from pyclad.data.concept import Concept\n",
    "\n",
    "window_size = 100\n",
    "train_concepts = []\n",
    "test_concepts = []\n",
    "\n",
    "for channel in msl_train_data:\n",
    "    # Tworzenie okien\n",
    "    train_windows = create_window(msl_train_data[channel], window_size)\n",
    "    test_windows = create_window(msl_test_data[channel], window_size)\n",
    "\n",
    "    # Przygotowanie etykiet testowych\n",
    "    labels = np.zeros(test_windows.shape[0], dtype=int)\n",
    "    anomaly_rows = metadata[(metadata['chan_id'] == channel) & (metadata['spacecraft'] == 'MSL')]\n",
    "    for _, row in anomaly_rows.iterrows():\n",
    "        sequences_str = row['anomaly_sequences']\n",
    "        if pd.notna(sequences_str):\n",
    "            sequences = ast.literal_eval(sequences_str)\n",
    "            for start, end in sequences:\n",
    "                start_idx = max(0, start - window_size + 1)\n",
    "                end_idx = min(labels.shape[0]-1, end)\n",
    "                labels[start_idx:end_idx+1] = 1\n",
    "\n",
    "    train_concepts.append(Concept(name=channel, data=train_windows))\n",
    "    test_concepts.append(Concept(name=channel, data=test_windows, labels=labels))\n",
    "\n",
    "del anomaly_rows, row, sequences_str, sequences, start, end, start_idx, end_idx, labels, channel, test_windows, train_windows\n",
    "\n",
    "print(f\"Liczba konceptów treningowych: {len(train_concepts)}\")\n",
    "print(f\"Liczba konceptów testowych: {len(test_concepts)}\")"
   ]
  },
  {
   "cell_type": "markdown",
   "id": "bc8a86b4",
   "metadata": {},
   "source": [
    "### Stworzenie datasetu"
   ]
  },
  {
   "cell_type": "code",
   "execution_count": 12,
   "id": "f8386e03",
   "metadata": {},
   "outputs": [],
   "source": [
    "from pyclad.data.datasets.concepts_dataset import ConceptsDataset\n",
    "\n",
    "dataset = ConceptsDataset(\n",
    "    name=\"MSL_Dataset\",\n",
    "    train_concepts=train_concepts,\n",
    "    test_concepts=test_concepts\n",
    ")"
   ]
  },
  {
   "cell_type": "markdown",
   "id": "9b0c32c7",
   "metadata": {},
   "source": [
    "## Model"
   ]
  },
  {
   "cell_type": "code",
   "execution_count": 13,
   "id": "11b62774",
   "metadata": {},
   "outputs": [
    {
     "name": "stdout",
     "output_type": "stream",
     "text": [
      "Using device: cuda\n"
     ]
    }
   ],
   "source": [
    "import torch\n",
    "import torch.nn as nn\n",
    "from torch.utils.data import TensorDataset, DataLoader\n",
    "from pyclad.models.model import Model\n",
    "\n",
    "device = torch.device(\"cuda\" if torch.cuda.is_available() else \"cpu\")\n",
    "print(\"Using device:\", device)\n",
    "\n",
    "class AE(nn.Module):\n",
    "    def __init__(self, input_dim):\n",
    "        super(AE, self).__init__()\n",
    "        self.encoder = nn.Sequential(\n",
    "            nn.Linear(input_dim, 256),\n",
    "            nn.ReLU(),\n",
    "            nn.Linear(256, 128)\n",
    "        )\n",
    "        self.decoder = nn.Sequential(\n",
    "            nn.Linear(128, 256),\n",
    "            nn.ReLU(),\n",
    "            nn.Linear(256, input_dim),\n",
    "            nn.Sigmoid()\n",
    "        )\n",
    "\n",
    "    def forward(self, x):\n",
    "        return self.decoder(self.encoder(x))\n",
    "\n",
    "class AEp(Model):\n",
    "    def __init__(self, input_dim, lr=1e-3, threshold=0.9, epochs=80):\n",
    "        super().__init__()\n",
    "        self.window_size = window_size\n",
    "        self.input_dim = input_dim\n",
    "        self.module = AE(self.input_dim).to(device)\n",
    "        self.lr = lr\n",
    "        self.threshold = threshold\n",
    "        self.epochs = epochs\n",
    "\n",
    "    def fit(self, data: np.ndarray):\n",
    "        dataset = TensorDataset(torch.Tensor(data))\n",
    "        loader = DataLoader(dataset, batch_size=128, shuffle=True)\n",
    "        optimizer = torch.optim.Adam(self.module.parameters(), lr=self.lr)\n",
    "        loss_fn = nn.MSELoss()\n",
    "        self.module.train()\n",
    "        for epoch in range(self.epochs):\n",
    "            for batch in loader:\n",
    "                x = batch[0].to(device)\n",
    "                optimizer.zero_grad()\n",
    "                x_hat = self.module(x)\n",
    "                loss = loss_fn(x_hat, x)\n",
    "                loss.backward()\n",
    "                optimizer.step()\n",
    "\n",
    "    def predict(self, data: np.ndarray):\n",
    "        self.module.eval()\n",
    "        with torch.no_grad():\n",
    "            x = torch.Tensor(data).to(device)\n",
    "            x_hat = self.module(x)\n",
    "            rec_error = ((data - x_hat.cpu().numpy()) ** 2).mean(axis=1)\n",
    "            binary_preds = (rec_error > self.threshold).astype(int)\n",
    "        return binary_preds, rec_error\n",
    "\n",
    "    def name(self):\n",
    "        return \"AEp\"\n",
    "input_dim = window_size * msl_train_data[msl_channels[0]].shape[1]\n",
    "model = AEp(input_dim)\n"
   ]
  },
  {
   "cell_type": "markdown",
   "id": "9cdc5e50",
   "metadata": {},
   "source": [
    "## Strategia"
   ]
  },
  {
   "cell_type": "code",
   "execution_count": 14,
   "id": "9a58626e",
   "metadata": {},
   "outputs": [],
   "source": [
    "from pyclad.strategies.baselines.cumulative import CumulativeStrategy\n",
    "from pyclad.strategies.baselines.naive import NaiveStrategy\n",
    "from pyclad.strategies.replay.replay import ReplayEnhancedStrategy\n",
    "\n",
    "strategy = NaiveStrategy(model)"
   ]
  },
  {
   "cell_type": "markdown",
   "id": "e1bfb041",
   "metadata": {},
   "source": [
    "## Uruchomienie eksperymentu"
   ]
  },
  {
   "cell_type": "markdown",
   "id": "bfeeb2c1",
   "metadata": {},
   "source": [
    "### Callbacki"
   ]
  },
  {
   "cell_type": "code",
   "execution_count": 15,
   "id": "c42f5890",
   "metadata": {},
   "outputs": [],
   "source": [
    "from pyclad.callbacks.evaluation.concept_metric_evaluation import ConceptMetricCallback\n",
    "from pyclad.callbacks.evaluation.memory_usage import MemoryUsageCallback\n",
    "from pyclad.callbacks.evaluation.time_evaluation import TimeEvaluationCallback\n",
    "from pyclad.metrics.base.roc_auc import RocAuc\n",
    "from pyclad.metrics.continual.average_continual import ContinualAverage\n",
    "from pyclad.metrics.continual.backward_transfer import BackwardTransfer\n",
    "from pyclad.metrics.continual.forward_transfer import ForwardTransfer\n",
    "from pyclad.output.json_writer import JsonOutputWriter\n",
    "\n",
    "callbacks = [\n",
    "    ConceptMetricCallback(\n",
    "        base_metric=RocAuc(),\n",
    "        metrics=[ContinualAverage(), BackwardTransfer(), ForwardTransfer()],\n",
    "    ),\n",
    "    TimeEvaluationCallback(),\n",
    "    MemoryUsageCallback(),\n",
    "]"
   ]
  },
  {
   "cell_type": "code",
   "execution_count": 16,
   "id": "74961737",
   "metadata": {},
   "outputs": [],
   "source": [
    "from pyclad.scenarios.concept_aware import ConceptAwareScenario\n",
    "from pyclad.scenarios.concept_agnostic import ConceptAgnosticScenario\n",
    "import pathlib\n",
    "\n",
    "scenario = ConceptAgnosticScenario(\n",
    "    dataset=dataset,\n",
    "    strategy=strategy,\n",
    "    callbacks=callbacks\n",
    ")\n",
    "\n",
    "# Uruchomienie eksperymentu\n",
    "scenario.run()\n",
    "\n",
    "output_writer = JsonOutputWriter(pathlib.Path(\"output-strategy2.json\"))\n",
    "output_writer.write([model, dataset, strategy, *callbacks])\n"
   ]
  },
  {
   "cell_type": "code",
   "execution_count": null,
   "id": "43365bdc",
   "metadata": {},
   "outputs": [],
   "source": []
  }
 ],
 "metadata": {
  "kernelspec": {
   "display_name": "Python 3",
   "language": "python",
   "name": "python3"
  },
  "language_info": {
   "codemirror_mode": {
    "name": "ipython",
    "version": 3
   },
   "file_extension": ".py",
   "mimetype": "text/x-python",
   "name": "python",
   "nbconvert_exporter": "python",
   "pygments_lexer": "ipython3",
   "version": "3.10.4"
  }
 },
 "nbformat": 4,
 "nbformat_minor": 5
}
